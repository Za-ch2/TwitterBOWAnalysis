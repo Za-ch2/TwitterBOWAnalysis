{
 "cells": [
  {
   "cell_type": "code",
   "execution_count": 2,
   "id": "33195b3a",
   "metadata": {},
   "outputs": [],
   "source": [
    "# Import all libraries\n",
    "import pandas as pd\n",
    "from sklearn.model_selection import train_test_split\n",
    "from sklearn.feature_extraction.text import CountVectorizer\n",
    "from sklearn.ensemble import RandomForestClassifier"
   ]
  },
  {
   "cell_type": "code",
   "execution_count": 3,
   "id": "e7d35108",
   "metadata": {},
   "outputs": [
    {
     "name": "stdout",
     "output_type": "stream",
     "text": [
      "   target          id                          date      flag  \\\n",
      "0       0  1467810369  Mon Apr 06 22:19:45 PDT 2009  NO_QUERY   \n",
      "1       0  1467810672  Mon Apr 06 22:19:49 PDT 2009  NO_QUERY   \n",
      "2       0  1467810917  Mon Apr 06 22:19:53 PDT 2009  NO_QUERY   \n",
      "3       0  1467811184  Mon Apr 06 22:19:57 PDT 2009  NO_QUERY   \n",
      "4       0  1467811193  Mon Apr 06 22:19:57 PDT 2009  NO_QUERY   \n",
      "5       0  1467811372  Mon Apr 06 22:20:00 PDT 2009  NO_QUERY   \n",
      "6       0  1467811592  Mon Apr 06 22:20:03 PDT 2009  NO_QUERY   \n",
      "7       0  1467811594  Mon Apr 06 22:20:03 PDT 2009  NO_QUERY   \n",
      "8       0  1467811795  Mon Apr 06 22:20:05 PDT 2009  NO_QUERY   \n",
      "9       0  1467812025  Mon Apr 06 22:20:09 PDT 2009  NO_QUERY   \n",
      "\n",
      "              user                                               text  \n",
      "0  _TheSpecialOne_  @switchfoot http://twitpic.com/2y1zl - Awww, t...  \n",
      "1    scotthamilton  is upset that he can't update his Facebook by ...  \n",
      "2         mattycus  @Kenichan I dived many times for the ball. Man...  \n",
      "3          ElleCTF    my whole body feels itchy and like its on fire   \n",
      "4           Karoli  @nationwideclass no, it's not behaving at all....  \n",
      "5         joy_wolf                      @Kwesidei not the whole crew   \n",
      "6          mybirch                                        Need a hug   \n",
      "7             coZZ  @LOLTrish hey  long time no see! Yes.. Rains a...  \n",
      "8  2Hood4Hollywood               @Tatiana_K nope they didn't have it   \n",
      "9          mimismo                          @twittera que me muera ?   \n"
     ]
    }
   ],
   "source": [
    "# Load the dataset\n",
    "df = pd.read_csv('/Users/zach/Desktop/TwitterBOW/twittertrainingset.csv', encoding='ISO-8859-1', header=None)\n",
    "df.columns = ['target', 'id', 'date', 'flag', 'user', 'text']\n",
    "print(df.head(10))"
   ]
  },
  {
   "cell_type": "code",
   "execution_count": 4,
   "id": "f578e76e",
   "metadata": {},
   "outputs": [],
   "source": [
    "# Preprocess the dataset\n",
    "df['target'] = df['target'].replace({4: 1})  # Mapping sentiment label 4 to 1 (positive)\n",
    "df = df[['target', 'text']]  # Keep only the relevant columns"
   ]
  },
  {
   "cell_type": "code",
   "execution_count": 5,
   "id": "f4a94a83",
   "metadata": {},
   "outputs": [],
   "source": [
    "# Split the dataset into training and testing sets\n",
    "train_data, test_data, train_labels, test_labels = train_test_split(df['text'], df['target'], test_size=0.2, random_state=42)"
   ]
  },
  {
   "cell_type": "code",
   "execution_count": null,
   "id": "a03098eb",
   "metadata": {},
   "outputs": [],
   "source": [
    "# Vectorize the text data\n",
    "vectorizer = CountVectorizer()\n",
    "train_vectors = vectorizer.fit_transform(train_data)\n",
    "test_vectors = vectorizer.transform(test_data)\n",
    "\n"
   ]
  },
  {
   "cell_type": "code",
   "execution_count": null,
   "id": "7c3d297c",
   "metadata": {},
   "outputs": [],
   "source": [
    "\n",
    "# Train a sentiment analysis model\n",
    "model = RandomForestClassifier()\n",
    "model.fit(train_vectors, train_labels)\n"
   ]
  },
  {
   "cell_type": "code",
   "execution_count": null,
   "id": "861024dc",
   "metadata": {},
   "outputs": [],
   "source": [
    "\n",
    "# Evaluate the model\n",
    "accuracy = model.score(test_vectors, test_labels)\n",
    "print(\"Accuracy:\", accuracy)"
   ]
  }
 ],
 "metadata": {
  "kernelspec": {
   "display_name": "Python 3 (ipykernel)",
   "language": "python",
   "name": "python3"
  },
  "language_info": {
   "codemirror_mode": {
    "name": "ipython",
    "version": 3
   },
   "file_extension": ".py",
   "mimetype": "text/x-python",
   "name": "python",
   "nbconvert_exporter": "python",
   "pygments_lexer": "ipython3",
   "version": "3.9.13"
  }
 },
 "nbformat": 4,
 "nbformat_minor": 5
}
